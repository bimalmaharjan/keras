{
 "cells": [
  {
   "cell_type": "code",
   "execution_count": 4,
   "metadata": {},
   "outputs": [
    {
     "name": "stderr",
     "output_type": "stream",
     "text": [
      "Using TensorFlow backend.\n"
     ]
    }
   ],
   "source": [
    "'''Trains a simple deep NN on the MNIST dataset.\n",
    "Gets to 98.40% test accuracy after 20 epochs\n",
    "(there is *a lot* of margin for parameter tuning).\n",
    "2 seconds per epoch on a K520 GPU.\n",
    "'''\n",
    "\n",
    "from __future__ import print_function\n",
    "\n",
    "import keras\n",
    "from keras.datasets import mnist\n",
    "from keras.models import Sequential\n",
    "from keras.layers import Dense, Dropout\n",
    "from keras.optimizers import RMSprop"
   ]
  },
  {
   "cell_type": "code",
   "execution_count": 5,
   "metadata": {
    "collapsed": true
   },
   "outputs": [],
   "source": [
    "batch_size = 128\n",
    "num_classes = 10\n",
    "epochs = 20"
   ]
  },
  {
   "cell_type": "code",
   "execution_count": 6,
   "metadata": {},
   "outputs": [
    {
     "name": "stdout",
     "output_type": "stream",
     "text": [
      "Downloading data from https://s3.amazonaws.com/img-datasets/mnist.npz\n",
      "11493376/11490434 [==============================] - 2s 0us/step\n"
     ]
    }
   ],
   "source": [
    "# the data, split between train and test sets\n",
    "(x_train, y_train), (x_test, y_test) = mnist.load_data()"
   ]
  },
  {
   "cell_type": "code",
   "execution_count": 11,
   "metadata": {},
   "outputs": [
    {
     "name": "stdout",
     "output_type": "stream",
     "text": [
      "60000 train samples\n",
      "10000 test samples\n"
     ]
    }
   ],
   "source": [
    "x_train = x_train.reshape(60000, 784)\n",
    "x_test = x_test.reshape(10000, 784)\n",
    "x_train = x_train.astype('float32')\n",
    "x_test = x_test.astype('float32')\n",
    "x_train /= 255\n",
    "x_test /= 255\n",
    "print(x_train.shape[0], 'train samples')\n",
    "print(x_test.shape[0], 'test samples')"
   ]
  },
  {
   "cell_type": "code",
   "execution_count": 12,
   "metadata": {
    "collapsed": true
   },
   "outputs": [],
   "source": [
    " \n",
    "# convert class vectors to binary class matrices\n",
    "y_train = keras.utils.to_categorical(y_train, num_classes)\n",
    "y_test = keras.utils.to_categorical(y_test, num_classes)"
   ]
  },
  {
   "cell_type": "code",
   "execution_count": 13,
   "metadata": {},
   "outputs": [
    {
     "name": "stdout",
     "output_type": "stream",
     "text": [
      "_________________________________________________________________\n",
      "Layer (type)                 Output Shape              Param #   \n",
      "=================================================================\n",
      "dense_1 (Dense)              (None, 512)               401920    \n",
      "_________________________________________________________________\n",
      "dropout_1 (Dropout)          (None, 512)               0         \n",
      "_________________________________________________________________\n",
      "dense_2 (Dense)              (None, 512)               262656    \n",
      "_________________________________________________________________\n",
      "dropout_2 (Dropout)          (None, 512)               0         \n",
      "_________________________________________________________________\n",
      "dense_3 (Dense)              (None, 10)                5130      \n",
      "=================================================================\n",
      "Total params: 669,706\n",
      "Trainable params: 669,706\n",
      "Non-trainable params: 0\n",
      "_________________________________________________________________\n"
     ]
    }
   ],
   "source": [
    "model = Sequential()\n",
    "model.add(Dense(512, activation='relu', input_shape=(784,)))\n",
    "model.add(Dropout(0.2))\n",
    "model.add(Dense(512, activation='relu'))\n",
    "model.add(Dropout(0.2))\n",
    "model.add(Dense(num_classes, activation='softmax'))\n",
    "\n",
    "model.summary()"
   ]
  },
  {
   "cell_type": "code",
   "execution_count": 14,
   "metadata": {
    "collapsed": true
   },
   "outputs": [],
   "source": [
    "model.compile(loss='categorical_crossentropy',\n",
    "              optimizer=RMSprop(),\n",
    "              metrics=['accuracy'])"
   ]
  },
  {
   "cell_type": "code",
   "execution_count": 15,
   "metadata": {},
   "outputs": [
    {
     "name": "stdout",
     "output_type": "stream",
     "text": [
      "Train on 60000 samples, validate on 10000 samples\n",
      "Epoch 1/20\n",
      "60000/60000 [==============================] - 15s 252us/step - loss: 0.2491 - acc: 0.9238 - val_loss: 0.1007 - val_acc: 0.9694\n",
      "Epoch 2/20\n",
      "60000/60000 [==============================] - 14s 242us/step - loss: 0.1029 - acc: 0.9684 - val_loss: 0.0860 - val_acc: 0.9739\n",
      "Epoch 3/20\n",
      "60000/60000 [==============================] - 15s 247us/step - loss: 0.0746 - acc: 0.9773 - val_loss: 0.0729 - val_acc: 0.9791\n",
      "Epoch 4/20\n",
      "60000/60000 [==============================] - 15s 246us/step - loss: 0.0598 - acc: 0.9822 - val_loss: 0.0673 - val_acc: 0.9816\n",
      "Epoch 5/20\n",
      "60000/60000 [==============================] - 15s 251us/step - loss: 0.0493 - acc: 0.9853 - val_loss: 0.0746 - val_acc: 0.9804\n",
      "Epoch 6/20\n",
      "60000/60000 [==============================] - 16s 262us/step - loss: 0.0444 - acc: 0.9871 - val_loss: 0.0704 - val_acc: 0.9818\n",
      "Epoch 7/20\n",
      "60000/60000 [==============================] - 15s 252us/step - loss: 0.0383 - acc: 0.9889 - val_loss: 0.0984 - val_acc: 0.9776\n",
      "Epoch 8/20\n",
      "60000/60000 [==============================] - 15s 245us/step - loss: 0.0341 - acc: 0.9898 - val_loss: 0.0891 - val_acc: 0.9801\n",
      "Epoch 9/20\n",
      "60000/60000 [==============================] - 16s 271us/step - loss: 0.0309 - acc: 0.9909 - val_loss: 0.0867 - val_acc: 0.9822\n",
      "Epoch 10/20\n",
      "60000/60000 [==============================] - 15s 252us/step - loss: 0.0290 - acc: 0.9920 - val_loss: 0.0967 - val_acc: 0.9799\n",
      "Epoch 11/20\n",
      "60000/60000 [==============================] - 15s 247us/step - loss: 0.0278 - acc: 0.9919 - val_loss: 0.0799 - val_acc: 0.9857\n",
      "Epoch 12/20\n",
      "60000/60000 [==============================] - 15s 251us/step - loss: 0.0242 - acc: 0.9929 - val_loss: 0.1010 - val_acc: 0.9808\n",
      "Epoch 13/20\n",
      "60000/60000 [==============================] - 15s 250us/step - loss: 0.0228 - acc: 0.9935 - val_loss: 0.0914 - val_acc: 0.9826\n",
      "Epoch 14/20\n",
      "60000/60000 [==============================] - 15s 250us/step - loss: 0.0229 - acc: 0.9934 - val_loss: 0.0916 - val_acc: 0.9835\n",
      "Epoch 15/20\n",
      "60000/60000 [==============================] - 17s 281us/step - loss: 0.0191 - acc: 0.9945 - val_loss: 0.0991 - val_acc: 0.9836\n",
      "Epoch 16/20\n",
      "60000/60000 [==============================] - 16s 261us/step - loss: 0.0205 - acc: 0.9948 - val_loss: 0.1136 - val_acc: 0.9822\n",
      "Epoch 17/20\n",
      "60000/60000 [==============================] - 16s 270us/step - loss: 0.0202 - acc: 0.9947 - val_loss: 0.1022 - val_acc: 0.9842\n",
      "Epoch 18/20\n",
      "60000/60000 [==============================] - 15s 257us/step - loss: 0.0189 - acc: 0.9951 - val_loss: 0.1055 - val_acc: 0.9835\n",
      "Epoch 19/20\n",
      "60000/60000 [==============================] - 15s 254us/step - loss: 0.0186 - acc: 0.9951 - val_loss: 0.1166 - val_acc: 0.9842\n",
      "Epoch 20/20\n",
      "60000/60000 [==============================] - 15s 256us/step - loss: 0.0161 - acc: 0.9955 - val_loss: 0.1215 - val_acc: 0.9822\n"
     ]
    }
   ],
   "source": [
    "history = model.fit(x_train, y_train,\n",
    "                    batch_size=batch_size,\n",
    "                    epochs=epochs,\n",
    "                    verbose=1,\n",
    "                    validation_data=(x_test, y_test))"
   ]
  },
  {
   "cell_type": "code",
   "execution_count": 16,
   "metadata": {},
   "outputs": [
    {
     "name": "stdout",
     "output_type": "stream",
     "text": [
      "Test loss: 0.121544380532\n",
      "Test accuracy: 0.9822\n"
     ]
    }
   ],
   "source": [
    "score = model.evaluate(x_test, y_test, verbose=0)\n",
    "print('Test loss:', score[0])\n",
    "print('Test accuracy:', score[1])"
   ]
  },
  {
   "cell_type": "code",
   "execution_count": null,
   "metadata": {
    "collapsed": true
   },
   "outputs": [],
   "source": []
  }
 ],
 "metadata": {
  "kernelspec": {
   "display_name": "Python 3",
   "language": "python",
   "name": "python3"
  },
  "language_info": {
   "codemirror_mode": {
    "name": "ipython",
    "version": 3
   },
   "file_extension": ".py",
   "mimetype": "text/x-python",
   "name": "python",
   "nbconvert_exporter": "python",
   "pygments_lexer": "ipython3",
   "version": "3.6.2"
  }
 },
 "nbformat": 4,
 "nbformat_minor": 2
}
